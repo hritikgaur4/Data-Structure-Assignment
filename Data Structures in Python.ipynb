{
 "cells": [
  {
   "cell_type": "markdown",
   "id": "8a8e7995-0314-437c-ac52-f811c66cf8a4",
   "metadata": {},
   "source": [
    "Q.1 Write a code in reverse string"
   ]
  },
  {
   "cell_type": "code",
   "execution_count": 2,
   "id": "5672fce0-fb09-44a4-8b4f-6a22b6d2fa8d",
   "metadata": {},
   "outputs": [
    {
     "name": "stdout",
     "output_type": "stream",
     "text": [
      "Reversed string: !dlroW ,olleH\n"
     ]
    }
   ],
   "source": [
    "def reverse_string(s):\n",
    "    return s[::-1]\n",
    "\n",
    "input_string = \"Hello, World!\"\n",
    "reversed_string = reverse_string(input_string)\n",
    "print(\"Reversed string:\", reversed_string)"
   ]
  },
  {
   "cell_type": "markdown",
   "id": "cd4776ec-b3b1-47dc-99d3-b01f9dc10457",
   "metadata": {},
   "source": [
    "Q.2 Write a code to count the number of vowel in a string."
   ]
  },
  {
   "cell_type": "code",
   "execution_count": 3,
   "id": "4481e00b-e94f-435b-b770-4c36cc14a6a9",
   "metadata": {},
   "outputs": [
    {
     "name": "stdout",
     "output_type": "stream",
     "text": [
      "Number of vowels: 3\n"
     ]
    }
   ],
   "source": [
    "def count_vowels(s):\n",
    "    vowels = \"aeiouAEIOU\"\n",
    "    count = 0\n",
    "    for char in s:\n",
    "        if char in vowels:\n",
    "            count += 1\n",
    "    return count\n",
    "\n",
    "input_string = \"Hello, World!\"\n",
    "print(\"Number of vowels:\", count_vowels(input_string))\n"
   ]
  },
  {
   "cell_type": "markdown",
   "id": "a99d8035-5db5-4525-a25f-5d67143e73e4",
   "metadata": {},
   "source": [
    "Q.3 Write a code to check if a given string is a palindrome or not."
   ]
  },
  {
   "cell_type": "code",
   "execution_count": 27,
   "id": "42ff7c9c-5459-48e9-aee3-e57925292f95",
   "metadata": {},
   "outputs": [
    {
     "name": "stdout",
     "output_type": "stream",
     "text": [
      "The string is a palindrome.\n"
     ]
    }
   ],
   "source": [
    "def is_palindrome(s):\n",
    "    # Remove spaces and convert to lowercase for a case-insensitive comparison\n",
    "    s = s.replace(\" \", \"\").lower()\n",
    "    # Check if the string is equal to its reverse\n",
    "    return s == s[::-1]\n",
    "\n",
    "string = \"A man a plan a canal Panama\"\n",
    "if is_palindrome(string):\n",
    "    print(\"The string is a palindrome.\")\n",
    "else:\n",
    "    print(\"The string is not a palindrome.\")\n"
   ]
  },
  {
   "cell_type": "markdown",
   "id": "01891a66-89d4-4261-af4a-5f30c498adb3",
   "metadata": {},
   "source": [
    "Q.4 Write a code to check if two given strings are anagrams of each others"
   ]
  },
  {
   "cell_type": "code",
   "execution_count": 5,
   "id": "9739a20e-2903-46f6-bf1d-73940a694048",
   "metadata": {},
   "outputs": [
    {
     "name": "stdout",
     "output_type": "stream",
     "text": [
      "\"Listen\" and \"Silent\" are anagrams.\n"
     ]
    }
   ],
   "source": [
    "def are_anagrams(str1, str2):\n",
    "    # Convert both strings to lowercase to make the check case-insensitive\n",
    "    str1 = str1.lower()\n",
    "    str2 = str2.lower()\n",
    "    \n",
    "    # Sort the characters of both strings and compare\n",
    "    return sorted(str1) == sorted(str2)\n",
    "\n",
    "str1 = \"Listen\"\n",
    "str2 = \"Silent\"\n",
    "if are_anagrams(str1, str2):\n",
    "    print(f'\"{str1}\" and \"{str2}\" are anagrams.')\n",
    "else:\n",
    "    print(f'\"{str1}\" and \"{str2}\" are not anagrams.')\n"
   ]
  },
  {
   "cell_type": "markdown",
   "id": "4568bbc5-bf62-4804-b2fb-cee4365cf833",
   "metadata": {},
   "source": [
    "Q.5 Write a code to find all ocurrences of  s given substring within another strings"
   ]
  },
  {
   "cell_type": "code",
   "execution_count": 28,
   "id": "ca06400a-2a48-427f-98a2-5e525dc536bb",
   "metadata": {},
   "outputs": [
    {
     "name": "stdout",
     "output_type": "stream",
     "text": [
      "All occurrences of 'test' in the string are at indices: [10]\n"
     ]
    }
   ],
   "source": [
    "def find_all_occurrences(main_string, substring):\n",
    "    start = 0\n",
    "    indices = []\n",
    "    while True:\n",
    "        start = main_string.find(substring, start)\n",
    "        if start == -1:\n",
    "            break\n",
    "        indices.append(start)\n",
    "        start += 1  # Move past the last found substring\n",
    "    return indices\n",
    "\n",
    "main_string = \"This is a test string. Testing is fun. Test it again.\"\n",
    "substring = \"test\"\n",
    "print(f\"All occurrences of '{substring}' in the string are at indices: {find_all_occurrences(main_string, substring)}\")\n"
   ]
  },
  {
   "cell_type": "markdown",
   "id": "33271123-04f8-49a5-9c6a-a1612862c18a",
   "metadata": {},
   "source": [
    "Q.6 Write a code to perfom basic string compression using the counts of repeated characters"
   ]
  },
  {
   "cell_type": "code",
   "execution_count": 7,
   "id": "a22cf20a-cc43-44a0-a803-854c39fb2b3e",
   "metadata": {},
   "outputs": [
    {
     "name": "stdout",
     "output_type": "stream",
     "text": [
      "a2b1c5a3\n"
     ]
    }
   ],
   "source": [
    "def compress_string(s):\n",
    "    compressed = []\n",
    "    count = 1\n",
    "\n",
    "    for i in range(1, len(s)):\n",
    "        if s[i] == s[i - 1]:\n",
    "            count += 1\n",
    "        else:\n",
    "            compressed.append(s[i - 1] + str(count))\n",
    "            count = 1\n",
    "\n",
    "    compressed.append(s[-1] + str(count))\n",
    "    return ''.join(compressed)\n",
    "\n",
    "input_string = \"aabcccccaaa\"\n",
    "compressed_string = compress_string(input_string)\n",
    "print(compressed_string) \n"
   ]
  },
  {
   "cell_type": "markdown",
   "id": "952aced5-eb98-4b5f-8ec7-fd22e4e646ce",
   "metadata": {},
   "source": [
    "Q.7 Write a code to deter\f",
    "ine if a string haa all unique characters."
   ]
  },
  {
   "cell_type": "code",
   "execution_count": 9,
   "id": "435cb437-3b5c-4f9a-b1c9-2bf05cfc9979",
   "metadata": {},
   "outputs": [
    {
     "name": "stdout",
     "output_type": "stream",
     "text": [
      "True\n",
      "False\n"
     ]
    }
   ],
   "source": [
    "def has_unique_characters(s):\n",
    "    # Using a set to track characters we've seen\n",
    "    seen = set()\n",
    "    for char in s:\n",
    "        if char in seen:\n",
    "            return False\n",
    "        seen.add(char)\n",
    "    return True\n",
    "    \n",
    "string = \"abcdefg\"\n",
    "print(has_unique_characters(string))  \n",
    "\n",
    "string = \"hello\"\n",
    "print(has_unique_characters(string))\n"
   ]
  },
  {
   "cell_type": "markdown",
   "id": "d0b08f7f-38e9-4837-91c6-30e34642881e",
   "metadata": {},
   "source": [
    "Q.8 Write a code to convert a given string to uppercase or lowercase."
   ]
  },
  {
   "cell_type": "code",
   "execution_count": 11,
   "id": "3a3b82bd-51dc-4f73-bb54-b9346b3ac3bc",
   "metadata": {},
   "outputs": [
    {
     "name": "stdout",
     "output_type": "stream",
     "text": [
      "HELLO, WORLD!\n",
      "hello, world!\n"
     ]
    }
   ],
   "source": [
    "# Convert string to uppercase\n",
    "text = \"Hello, World!\"\n",
    "uppercase_text = text.upper()\n",
    "print(uppercase_text)  # Output: HELLO, WORLD!\n",
    "# Convert string to lowercase\n",
    "text = \"Hello, World!\"\n",
    "lowercase_text = text.lower()\n",
    "print(lowercase_text)  # Output: hello, world!\n",
    "\n"
   ]
  },
  {
   "cell_type": "markdown",
   "id": "99099f12-dfa3-49ed-a082-2d70e45c6a6b",
   "metadata": {},
   "source": [
    "Q.9 Write a code to count the number of words in a string."
   ]
  },
  {
   "cell_type": "code",
   "execution_count": 12,
   "id": "108f5e93-cef3-4cc6-b0ac-3d0e3570ac3a",
   "metadata": {},
   "outputs": [
    {
     "name": "stdout",
     "output_type": "stream",
     "text": [
      "The number of words in the string is: 6\n"
     ]
    }
   ],
   "source": [
    "def count_words(string):\n",
    "    # Split the string into words using whitespace as the delimiter\n",
    "    words = string.split()\n",
    "    # Return the number of words\n",
    "    return len(words)\n",
    "\n",
    "input_string = \"Hello, this is a sample string.\"\n",
    "print(f\"The number of words in the string is: {count_words(input_string)}\")\n"
   ]
  },
  {
   "cell_type": "markdown",
   "id": "cea052f5-b5c7-40e1-b126-7be010836dc6",
   "metadata": {},
   "source": [
    "Q.10 Write a code to concatenate two strings without using the + operator."
   ]
  },
  {
   "cell_type": "code",
   "execution_count": 13,
   "id": "70bb6ec0-91ce-409f-a7a0-81215536d19d",
   "metadata": {},
   "outputs": [
    {
     "name": "stdout",
     "output_type": "stream",
     "text": [
      "HelloWorld\n"
     ]
    }
   ],
   "source": [
    "# Define the two strings\n",
    "string1 = \"Hello\"\n",
    "string2 = \"World\"\n",
    "\n",
    "# Concatenate using join() method\n",
    "result = \"\".join([string1, string2])\n",
    "\n",
    "print(result)\n"
   ]
  },
  {
   "cell_type": "markdown",
   "id": "2de04873-60c1-4329-9f4e-07b3e18724cd",
   "metadata": {},
   "source": [
    "Q.11 Write a code to remove all occurrences of a specific element from a list."
   ]
  },
  {
   "cell_type": "code",
   "execution_count": 29,
   "id": "c83005ec-f68b-437f-b4b8-48ac38f696d2",
   "metadata": {},
   "outputs": [
    {
     "name": "stdout",
     "output_type": "stream",
     "text": [
      "Original list: [1, 2, 3, 4, 2, 2, 5]\n",
      "List after removing all occurrences of 2 : [1, 3, 4, 5]\n"
     ]
    }
   ],
   "source": [
    "def remove_all_occurrences(lst, element):\n",
    "    return [item for item in lst if item != element]\n",
    "\n",
    "\n",
    "my_list = [1, 2, 3, 4, 2, 2, 5]\n",
    "element_to_remove = 2\n",
    "new_list = remove_all_occurrences(my_list, element_to_remove)\n",
    "print(\"Original list:\", my_list)\n",
    "print(\"List after removing all occurrences of\", element_to_remove, \":\", new_list)\n"
   ]
  },
  {
   "cell_type": "markdown",
   "id": "6bf2187b-970e-4224-a846-237911219b96",
   "metadata": {},
   "source": [
    "Q.12 implement a code to find the second largest number in a given list of integers."
   ]
  },
  {
   "cell_type": "code",
   "execution_count": 15,
   "id": "6d4deacb-60dd-4c55-92af-764b8173acb9",
   "metadata": {},
   "outputs": [
    {
     "name": "stdout",
     "output_type": "stream",
     "text": [
      "The second largest number is: 45\n"
     ]
    }
   ],
   "source": [
    "def find_second_largest(numbers):\n",
    "    if len(numbers) < 2:\n",
    "        return None  \n",
    "\n",
    "    first, second = float('-inf'), float('-inf')\n",
    "    for number in numbers:\n",
    "        if number > first:\n",
    "            first, second = number, first\n",
    "        elif first > number > second:\n",
    "            second = number\n",
    "\n",
    "    return second if second != float('-inf') else None\n",
    "\n",
    "numbers = [10, 20, 4, 45, 99]\n",
    "second_largest = find_second_largest(numbers)\n",
    "print(\"The second largest number is:\", second_largest)\n"
   ]
  },
  {
   "cell_type": "markdown",
   "id": "42b0ca30-1e7e-4470-933f-42da11fae670",
   "metadata": {},
   "source": [
    "Q.13 Create a code to count the occurrences of each element in a list and return a dictionary with elements as keys and their counts as value."
   ]
  },
  {
   "cell_type": "code",
   "execution_count": 18,
   "id": "d701bd59-3a4e-44f1-b2da-2f43eeb2f677",
   "metadata": {},
   "outputs": [
    {
     "name": "stdout",
     "output_type": "stream",
     "text": [
      "{1: 1, 2: 2, 3: 3, 4: 4}\n"
     ]
    }
   ],
   "source": [
    "from collections import Counter\n",
    "\n",
    "def count_occurrences(lst):\n",
    "    return dict(Counter(lst))\n",
    "\n",
    "example_list = [1, 2, 2, 3, 3, 3, 4, 4, 4, 4]\n",
    "result = count_occurrences(example_list)\n",
    "print(result)\n",
    "\n"
   ]
  },
  {
   "cell_type": "markdown",
   "id": "df1be2b0-d5c3-43d5-8e2d-4a971c4eee49",
   "metadata": {},
   "source": [
    "Q.14 Write a code to reverve a list in-place without using in  built-in reverve functions."
   ]
  },
  {
   "cell_type": "code",
   "execution_count": 19,
   "id": "e7a532a2-d1d9-42ce-aaba-febe64264432",
   "metadata": {},
   "outputs": [
    {
     "name": "stdout",
     "output_type": "stream",
     "text": [
      "[5, 4, 3, 2, 1]\n"
     ]
    }
   ],
   "source": [
    "def reverse_list(lst):\n",
    "    left = 0\n",
    "    right = len(lst) - 1\n",
    "    \n",
    "    while left < right:\n",
    "        # Swap the elements\n",
    "        lst[left], lst[right] = lst[right], lst[left]\n",
    "        # Move the pointers\n",
    "        left += 1\n",
    "        right -= 1\n",
    "\n",
    "\n",
    "my_list = [1, 2, 3, 4, 5]\n",
    "reverse_list(my_list)\n",
    "print(my_list) \n"
   ]
  },
  {
   "cell_type": "markdown",
   "id": "45c38cb6-1c17-4bd0-a6bf-04fecb4ee337",
   "metadata": {},
   "source": [
    "Q.15 Implement a code to find and remove duplicates from a list while preserving the original order of elements"
   ]
  },
  {
   "cell_type": "code",
   "execution_count": 20,
   "id": "6f214282-8e3b-4f50-8d5c-f2015feda7d6",
   "metadata": {},
   "outputs": [
    {
     "name": "stdout",
     "output_type": "stream",
     "text": [
      "Updated List: [1, 2, 3, 4, 5, 6]\n"
     ]
    }
   ],
   "source": [
    "def remove_duplicates(lst):\n",
    "    unique_list = []\n",
    "    for item in lst:\n",
    "        if item not in unique_list:\n",
    "            unique_list.append(item)\n",
    "    return unique_list\n",
    "\n",
    "original_list = [1, 2, 3, 4, 2, 1, 5, 6, 4]\n",
    "updated_list = remove_duplicates(original_list)\n",
    "print(\"Updated List:\", updated_list)\n"
   ]
  },
  {
   "cell_type": "markdown",
   "id": "d64e44a7-54e5-49f6-8c2c-0ac59208045d",
   "metadata": {},
   "source": [
    "Q.16 Create a code to check if a given list is sorted (either in ascending or descending order) or not."
   ]
  },
  {
   "cell_type": "code",
   "execution_count": 30,
   "id": "4057c072-7ddc-4f2e-bdbf-ba37cf709073",
   "metadata": {},
   "outputs": [
    {
     "name": "stdout",
     "output_type": "stream",
     "text": [
      "The list is sorted in ascending order.\n",
      "The list is sorted in descending order.\n",
      "The list is not sorted.\n"
     ]
    }
   ],
   "source": [
    "def is_sorted(lst):\n",
    "    ascending = all(lst[i] <= lst[i + 1] for i in range(len(lst) - 1))\n",
    "    descending = all(lst[i] >= lst[i + 1] for i in range(len(lst) - 1))\n",
    "    if ascending:\n",
    "        return \"The list is sorted in ascending order.\"\n",
    "    elif descending:\n",
    "        return \"The list is sorted in descending order.\"\n",
    "    else:\n",
    "        return \"The list is not sorted.\"\n",
    "\n",
    "example_list = [1, 2, 3, 4, 5]\n",
    "print(is_sorted(example_list))  # Output: The list is sorted in ascending order.\n",
    "\n",
    "example_list = [5, 4, 3, 2, 1]\n",
    "print(is_sorted(example_list))  # Output: The list is sorted in descending order.\n",
    "\n",
    "example_list = [1, 3, 2, 4, 5]\n",
    "print(is_sorted(example_list))  # Output: The list is not sorted.\n",
    "\n"
   ]
  },
  {
   "cell_type": "code",
   "execution_count": null,
   "id": "79abf652-144b-4647-a492-23c45b31aa46",
   "metadata": {},
   "outputs": [],
   "source": [
    "Q.17 Write a code to merge two sorted lists into a single sorted lists"
   ]
  },
  {
   "cell_type": "code",
   "execution_count": 3,
   "id": "838999e3-52c4-401c-ad9d-d6de3fe1ddad",
   "metadata": {},
   "outputs": [
    {
     "name": "stdout",
     "output_type": "stream",
     "text": [
      "Merged List: [1, 2, 3, 4, 5, 6, 7, 8]\n"
     ]
    }
   ],
   "source": [
    "def merge_sorted_lists(list1, list2):\n",
    "    merged_list = []\n",
    "    i, j = 0, 0\n",
    "\n",
    "    # Traverse both lists and append smaller element to merged_list\n",
    "    while i < len(list1) and j < len(list2):\n",
    "        if list1[i] < list2[j]:\n",
    "            merged_list.append(list1[i])\n",
    "            i += 1\n",
    "        else:\n",
    "            merged_list.append(list2[j])\n",
    "            j += 1\n",
    "\n",
    "    # Append remaining elements of list1, if any\n",
    "    while i < len(list1):\n",
    "        merged_list.append(list1[i])\n",
    "        i += 1\n",
    "\n",
    "    # Append remaining elements of list2, if any\n",
    "    while j < len(list2):\n",
    "        merged_list.append(list2[j])\n",
    "        j += 1\n",
    "\n",
    "    return merged_list\n",
    "\n",
    "list1 = [1, 3, 5, 7]\n",
    "list2 = [2, 4, 6, 8]\n",
    "print(\"Merged List:\", merge_sorted_lists(list1, list2))\n"
   ]
  },
  {
   "cell_type": "markdown",
   "id": "7c48f5f3-54f3-463e-b2eb-14df8f174b4c",
   "metadata": {},
   "source": [
    "Q.18 Implement a code to find the intersection of two given list."
   ]
  },
  {
   "cell_type": "code",
   "execution_count": 4,
   "id": "8b39a50d-d7e2-462c-a758-7302210adc36",
   "metadata": {},
   "outputs": [
    {
     "name": "stdout",
     "output_type": "stream",
     "text": [
      "Intersection: [3, 4, 5]\n"
     ]
    }
   ],
   "source": [
    "def intersection(list1, list2):\n",
    "    return [item for item in list1 if item in list2]\n",
    "\n",
    "\n",
    "list1 = [1, 2, 3, 4, 5]\n",
    "list2 = [3, 4, 5, 6, 7]\n",
    "print(\"Intersection:\", intersection(list1, list2))\n"
   ]
  },
  {
   "cell_type": "code",
   "execution_count": null,
   "id": "6db70989-5d61-4289-b6cf-596e91522dd9",
   "metadata": {},
   "outputs": [],
   "source": [
    "Q.19 Create a code to find the union of two lists without duplicates."
   ]
  },
  {
   "cell_type": "code",
   "execution_count": 5,
   "id": "5d3d414d-33de-4b6a-869c-240991ee747b",
   "metadata": {},
   "outputs": [
    {
     "name": "stdout",
     "output_type": "stream",
     "text": [
      "Union: [1, 2, 3, 4, 5, 6, 7, 8]\n"
     ]
    }
   ],
   "source": [
    "def union_lists(list1, list2):\n",
    "    return list(set(list1) | set(list2))\n",
    "\n",
    "\n",
    "list1 = [1, 2, 3, 4, 5]\n",
    "list2 = [4, 5, 6, 7, 8]\n",
    "print(\"Union:\", union_lists(list1, list2))\n"
   ]
  },
  {
   "cell_type": "markdown",
   "id": "fb7f56e2-9289-4bc1-b57e-324718b9d76e",
   "metadata": {},
   "source": [
    "Q.20 Write a code to shuffle a given list randomly without using in built-in shuffle functions"
   ]
  },
  {
   "cell_type": "code",
   "execution_count": 7,
   "id": "80443e23-9fc5-46d2-871c-7c0f56e3af04",
   "metadata": {},
   "outputs": [
    {
     "name": "stdout",
     "output_type": "stream",
     "text": [
      "Original List: [1, 2, 3, 4, 5, 6, 7, 8, 9]\n",
      "Shuffled List: [8, 4, 1, 2, 3, 9, 7, 6, 5]\n"
     ]
    }
   ],
   "source": [
    "import random\n",
    "\n",
    "def shuffle_list(lst):\n",
    "    n = len(lst)\n",
    "    for i in range(n-1, 0, -1):\n",
    "        j = random.randint(0, i)\n",
    "        lst[i], lst[j] = lst[j], lst[i]\n",
    "    return lst\n",
    "\n",
    "original_list = [1, 2, 3, 4, 5, 6, 7, 8, 9]\n",
    "print(\"Original List:\", original_list)\n",
    "print(\"Shuffled List:\", shuffle_list(original_list))\n"
   ]
  },
  {
   "cell_type": "markdown",
   "id": "e07498cb-fb43-4d67-809f-47949da273dd",
   "metadata": {},
   "source": [
    "Q.21 Write a code that taken two tuples as input and returns a new tuple containing elements that are common to both input tuple."
   ]
  },
  {
   "cell_type": "code",
   "execution_count": 31,
   "id": "ff34582e-6aa9-49cc-b9a5-06504b8a8ec3",
   "metadata": {},
   "outputs": [
    {
     "name": "stdout",
     "output_type": "stream",
     "text": [
      "Common Elements: (4, 5)\n"
     ]
    }
   ],
   "source": [
    "def common_elements(tuple1, tuple2):\n",
    "    return tuple(set(tuple1) & set(tuple2))\n",
    "\n",
    "\n",
    "tuple1 = (1, 2, 3, 4, 5)\n",
    "tuple2 = (4, 5, 6, 7, 8)\n",
    "print(\"Common Elements:\", common_elements(tuple1, tuple2))\n"
   ]
  },
  {
   "cell_type": "markdown",
   "id": "3d27ceb8-a204-473d-8c1b-5def206ae7a0",
   "metadata": {},
   "source": [
    "Q.22 Create a code that prompts the user to enter two sets of integers separated by commas. Then, print the intersection of these two sets."
   ]
  },
  {
   "cell_type": "code",
   "execution_count": 12,
   "id": "1969b3a0-d1c6-424d-8f11-47816eaac5bb",
   "metadata": {},
   "outputs": [
    {
     "name": "stdin",
     "output_type": "stream",
     "text": [
      "Enter the first set of integers (separated by commas):  1, 2, 3, 4, 5\n",
      "Enter the second set of integers (separated by commas):  4, 5, 6, 7, 8\n"
     ]
    },
    {
     "name": "stdout",
     "output_type": "stream",
     "text": [
      "Intersection: {4, 5}\n"
     ]
    }
   ],
   "source": [
    "def get_set_from_input(prompt):\n",
    "    return set(map(int, input(prompt).split(',')))\n",
    "\n",
    "def main():\n",
    "    set1 = get_set_from_input(\"Enter the first set of integers (separated by commas): \")\n",
    "    set2 = get_set_from_input(\"Enter the second set of integers (separated by commas): \")\n",
    "    \n",
    "    intersection_set = set1 & set2\n",
    "    print(\"Intersection:\", intersection_set)\n",
    "\n",
    "if __name__ == \"__main__\":\n",
    "    main()\n"
   ]
  },
  {
   "cell_type": "markdown",
   "id": "1bd0a37c-bcf0-406c-b354-be9b3ba7deb4",
   "metadata": {},
   "source": [
    "Q.23 Write a code to concatenate two tuples. The function should take two tuples as input and return a new \n",
    "tuple containing elements fro\f",
    " both input tuples."
   ]
  },
  {
   "cell_type": "code",
   "execution_count": 32,
   "id": "455988f5-ceac-4b58-a182-dbcf84c80080",
   "metadata": {},
   "outputs": [
    {
     "name": "stdout",
     "output_type": "stream",
     "text": [
      "Concatenated Tuple: (1, 2, 3, 4, 5, 6)\n"
     ]
    }
   ],
   "source": [
    "def concatenate_tuples(tuple1, tuple2):\n",
    "    return tuple1 + tuple2\n",
    "\n",
    "\n",
    "tuple1 = (1, 2, 3)\n",
    "tuple2 = (4, 5, 6)\n",
    "print(\"Concatenated Tuple:\", concatenate_tuples(tuple1, tuple2))\n"
   ]
  },
  {
   "cell_type": "markdown",
   "id": "6af402c3-3664-4c58-a664-26f911ff4abb",
   "metadata": {},
   "source": [
    "Q.24 Develop a code that prompts the user to input two sets of strings. Then print the elements that are \n",
    "present in the first set but not in the second sets."
   ]
  },
  {
   "cell_type": "code",
   "execution_count": 11,
   "id": "4fa5d98f-0b2f-4166-b251-5f48bafcc6ba",
   "metadata": {},
   "outputs": [
    {
     "name": "stdin",
     "output_type": "stream",
     "text": [
      "Enter the first set of strings (separated by commas):  apple,banana,orange\n",
      "Enter the second set of strings (separated by commas):  banana,grape\n"
     ]
    },
    {
     "name": "stdout",
     "output_type": "stream",
     "text": [
      "Elements in the first set but not in the second set: {'orange', 'apple'}\n"
     ]
    }
   ],
   "source": [
    "def get_set_from_input(prompt):\n",
    "    return set(input(prompt).split(','))\n",
    "\n",
    "def main():\n",
    "    set1 = get_set_from_input(\"Enter the first set of strings (separated by commas): \")\n",
    "    set2 = get_set_from_input(\"Enter the second set of strings (separated by commas): \")\n",
    "    \n",
    "    difference_set = set1 - set2\n",
    "    print(\"Elements in the first set but not in the second set:\", difference_set)\n",
    "\n",
    "if __name__ == \"__main__\":\n",
    "    main()\n",
    "\n"
   ]
  },
  {
   "cell_type": "markdown",
   "id": "502231e5-d68d-474a-92e7-02367010716a",
   "metadata": {},
   "source": [
    "Q.25 Create a code that takes a tuple and two integers as input. The function should return a new tuple containing elements from the original tuple within the specified range of indices."
   ]
  },
  {
   "cell_type": "code",
   "execution_count": 33,
   "id": "2047f673-d4cd-4fa2-ba45-d29656aee71e",
   "metadata": {},
   "outputs": [
    {
     "name": "stdout",
     "output_type": "stream",
     "text": [
      "Original Tuple: (1, 2, 3, 4, 5, 6, 7, 8, 9)\n",
      "Sliced Tuple: (3, 4, 5, 6)\n"
     ]
    }
   ],
   "source": [
    "def slice_tuple(tpl, start, end):\n",
    "    return tpl[start:end]\n",
    "\n",
    "\n",
    "original_tuple = (1, 2, 3, 4, 5, 6, 7, 8, 9)\n",
    "start_index = 2\n",
    "end_index = 6\n",
    "print(\"Original Tuple:\", original_tuple)\n",
    "print(\"Sliced Tuple:\", slice_tuple(original_tuple, start_index, end_index))\n"
   ]
  },
  {
   "cell_type": "markdown",
   "id": "03783352-a070-418d-b62c-32db9e9c06cf",
   "metadata": {},
   "source": [
    "Q.26 Write a code that prompts the user to input two sets of charecters. Then print the union of these two sets."
   ]
  },
  {
   "cell_type": "code",
   "execution_count": 14,
   "id": "85e23a30-b1c1-4b91-9a69-6c288b0e2547",
   "metadata": {},
   "outputs": [
    {
     "name": "stdin",
     "output_type": "stream",
     "text": [
      "Enter the first set of characters (separated by commas):   a,b,c,d\n",
      "Enter the second set of characters (separated by commas):  c,d,e,f\n"
     ]
    },
    {
     "name": "stdout",
     "output_type": "stream",
     "text": [
      "Union: {'e', 'c', 'd', 'f', ' a', 'b'}\n"
     ]
    }
   ],
   "source": [
    "def get_set_from_input(prompt):\n",
    "    return set(input(prompt).split(','))\n",
    "\n",
    "def main():\n",
    "    set1 = get_set_from_input(\"Enter the first set of characters (separated by commas): \")\n",
    "    set2 = get_set_from_input(\"Enter the second set of characters (separated by commas): \")\n",
    "    \n",
    "    union_set = set1 | set2\n",
    "    print(\"Union:\", union_set)\n",
    "\n",
    "if __name__ == \"__main__\":\n",
    "    main()\n"
   ]
  },
  {
   "cell_type": "markdown",
   "id": "99ac0a05-c2d6-4f78-a638-a38a29bed16f",
   "metadata": {},
   "source": [
    "Q.27 Develop a code that takes a tuple of integers as input. The function should return the maximum and \n",
    "minimum values from the tuple using tuple unpacking.\n"
   ]
  },
  {
   "cell_type": "code",
   "execution_count": 34,
   "id": "4b05c0a9-7262-4c09-a1a4-4e31824b656a",
   "metadata": {},
   "outputs": [
    {
     "name": "stdout",
     "output_type": "stream",
     "text": [
      "Maximum value: 9\n",
      "Minimum value: 1\n"
     ]
    }
   ],
   "source": [
    "def find_max_min(tpl):\n",
    "    max_val, min_val = max(tpl), min(tpl)\n",
    "    return max_val, min_val\n",
    "\n",
    "input_tuple = (3, 1, 4, 1, 5, 9, 2, 6, 5, 3, 5)\n",
    "max_value, min_value = find_max_min(input_tuple)\n",
    "print(\"Maximum value:\", max_value)\n",
    "print(\"Minimum value:\", min_value)\n"
   ]
  },
  {
   "cell_type": "markdown",
   "id": "153ab3c8-42d7-4d13-b360-7ef7a472f961",
   "metadata": {},
   "source": [
    "Q.28 Create a code that defines two sets of integers. Then print the union intersection and difference of these \n",
    "two sets"
   ]
  },
  {
   "cell_type": "code",
   "execution_count": 35,
   "id": "58b8686c-deeb-4dbc-9235-4ac50e309915",
   "metadata": {},
   "outputs": [
    {
     "name": "stdout",
     "output_type": "stream",
     "text": [
      "Union: {1, 2, 3, 4, 5, 6, 7, 8}\n",
      "Intersection: {4, 5}\n",
      "Difference: {1, 2, 3}\n"
     ]
    }
   ],
   "source": [
    "def set_operations(set1, set2):\n",
    "    union_set = set1 | set2\n",
    "    intersection_set = set1 & set2\n",
    "    difference_set = set1 - set2\n",
    "    \n",
    "    print(\"Union:\", union_set)\n",
    "    print(\"Intersection:\", intersection_set)\n",
    "    print(\"Difference:\", difference_set)\n",
    "\n",
    "set1 = {1, 2, 3, 4, 5}\n",
    "set2 = {4, 5, 6, 7, 8}\n",
    "set_operations(set1, set2)\n"
   ]
  },
  {
   "cell_type": "markdown",
   "id": "f8ab5a9e-28e8-4525-9481-b76055491395",
   "metadata": {},
   "source": [
    "Q.29 Write a code that takes a tupls and an element as input. The function should return the count of \n",
    "occurrences of the given element in the tuple.\n"
   ]
  },
  {
   "cell_type": "code",
   "execution_count": 36,
   "id": "ae779553-37d5-4408-9926-1e865d248765",
   "metadata": {},
   "outputs": [
    {
     "name": "stdout",
     "output_type": "stream",
     "text": [
      "Count of occurrences of 2 in the tuple: 4\n"
     ]
    }
   ],
   "source": [
    "def count_occurrences(tpl, element):\n",
    "    return tpl.count(element)\n",
    "\n",
    "\n",
    "input_tuple = (1, 2, 3, 4, 2, 1, 5, 2, 6, 2)\n",
    "element = 2\n",
    "print(\"Count of occurrences of\", element, \"in the tuple:\", count_occurrences(input_tuple, element))\n"
   ]
  },
  {
   "cell_type": "markdown",
   "id": "84b63524-51a2-4371-ac76-7ce932b77a28",
   "metadata": {},
   "source": [
    "Q.30 Develop a code that prompts the user to input two sets of strings. Then print the symmetric difference of \n",
    "these two sets"
   ]
  },
  {
   "cell_type": "code",
   "execution_count": 18,
   "id": "e0cc1f76-1de8-4e47-8945-26c332400ab3",
   "metadata": {},
   "outputs": [
    {
     "name": "stdin",
     "output_type": "stream",
     "text": [
      "Enter the first set of strings (separated by commas):  apple,banana,orange\n",
      "Enter the second set of strings (separated by commas):  banana,grape,orange\n"
     ]
    },
    {
     "name": "stdout",
     "output_type": "stream",
     "text": [
      "Symmetric Difference: {'grape', 'apple'}\n"
     ]
    }
   ],
   "source": [
    "def get_set_from_input(prompt):\n",
    "    return set(input(prompt).split(','))\n",
    "\n",
    "def main():\n",
    "    set1 = get_set_from_input(\"Enter the first set of strings (separated by commas): \")\n",
    "    set2 = get_set_from_input(\"Enter the second set of strings (separated by commas): \")\n",
    "    \n",
    "    symmetric_difference_set = set1.symmetric_difference(set2)\n",
    "    print(\"Symmetric Difference:\", symmetric_difference_set)\n",
    "\n",
    "if __name__ == \"__main__\":\n",
    "    main()\n",
    "\n"
   ]
  },
  {
   "cell_type": "markdown",
   "id": "d91a1d61-22c2-484c-acb3-cf4d18540843",
   "metadata": {},
   "source": [
    "Q.31 Write a code that takes a list of words as input and returns a dictionary where the keys are unique words \n",
    "and the values are the frequencies of those words in the input list."
   ]
  },
  {
   "cell_type": "code",
   "execution_count": 37,
   "id": "fa900a46-15e4-42bb-a005-16b0b7a75701",
   "metadata": {},
   "outputs": [
    {
     "name": "stdout",
     "output_type": "stream",
     "text": [
      "Word Frequencies: {'apple': 3, 'banana': 2, 'orange': 1}\n"
     ]
    }
   ],
   "source": [
    "def word_frequencies(word_list):\n",
    "    frequency_dict = {}\n",
    "    for word in word_list:\n",
    "        if word in frequency_dict:\n",
    "            frequency_dict[word] += 1\n",
    "        else:\n",
    "            frequency_dict[word] = 1\n",
    "    return frequency_dict\n",
    "\n",
    "\n",
    "words = [\"apple\", \"banana\", \"apple\", \"orange\", \"banana\", \"apple\"]\n",
    "print(\"Word Frequencies:\", word_frequencies(words))\n"
   ]
  },
  {
   "cell_type": "markdown",
   "id": "a2e56c6b-e34a-4eb2-986d-967220c0e074",
   "metadata": {},
   "source": [
    "Q.32 Write a code that takes two dictionaries as input and merges them into a single dictionary. If there are \n",
    "common keys the values should be added together."
   ]
  },
  {
   "cell_type": "code",
   "execution_count": 38,
   "id": "ee43eb5e-67d3-4c0f-a6f8-6834522621a1",
   "metadata": {},
   "outputs": [
    {
     "name": "stdout",
     "output_type": "stream",
     "text": [
      "Merged Dictionary: {'a': 10, 'b': 25, 'c': 45, 'd': 25}\n"
     ]
    }
   ],
   "source": [
    "def merge_dictionaries(dict1, dict2):\n",
    "    merged_dict = dict1.copy()  # Start with a copy of the first dictionary\n",
    "    for key, value in dict2.items():\n",
    "        if key in merged_dict:\n",
    "            merged_dict[key] += value  # Add values if key is common\n",
    "        else:\n",
    "            merged_dict[key] = value  # Add new key-value pair if key is not in merged_dict\n",
    "    return merged_dict\n",
    "\n",
    "dict1 = {'a': 10, 'b': 20, 'c': 30}\n",
    "dict2 = {'b': 5, 'c': 15, 'd': 25}\n",
    "print(\"Merged Dictionary:\", merge_dictionaries(dict1, dict2))\n"
   ]
  },
  {
   "cell_type": "markdown",
   "id": "e4879e0b-b7fb-4ffa-9eb3-6d496ead01fe",
   "metadata": {},
   "source": [
    "Q.33 Write a code to access a value in a nested dictionary. The function should take the dictionary and a list of \n",
    "keys as input and return the corresponding velue. If any of the keys do not exist in the dictionary the \n",
    "function should return None"
   ]
  },
  {
   "cell_type": "code",
   "execution_count": 39,
   "id": "c1333305-c27c-4814-b2c5-7b3295d5a9de",
   "metadata": {},
   "outputs": [
    {
     "name": "stdout",
     "output_type": "stream",
     "text": [
      "Value: 42\n",
      "Value: None\n"
     ]
    }
   ],
   "source": [
    "def get_nested_value(dictionary, keys):\n",
    "    for key in keys:\n",
    "        if isinstance(dictionary, dict) and key in dictionary:\n",
    "            dictionary = dictionary[key]\n",
    "        else:\n",
    "            return None\n",
    "    return dictionary\n",
    "\n",
    "\n",
    "nested_dict = {\n",
    "    'a': {\n",
    "        'b': {\n",
    "            'c': 42\n",
    "        }\n",
    "    }\n",
    "}\n",
    "keys = ['a', 'b', 'c']\n",
    "print(\"Value:\", get_nested_value(nested_dict, keys))  # Output: 42\n",
    "\n",
    "keys = ['a', 'b', 'd']\n",
    "print(\"Value:\", get_nested_value(nested_dict, keys))  # Output: None\n"
   ]
  },
  {
   "cell_type": "markdown",
   "id": "3e27de50-0577-4fda-89aa-902d359d0dae",
   "metadata": {},
   "source": [
    "Q.34 Write a code that takes a dictionary as input and returns a sorted version of it based on the velues. You \n",
    "can choose whether to sort in ascending or descending order."
   ]
  },
  {
   "cell_type": "code",
   "execution_count": 40,
   "id": "0781ba8d-53c5-4d9f-9f9f-7099848be58e",
   "metadata": {},
   "outputs": [
    {
     "name": "stdout",
     "output_type": "stream",
     "text": [
      "Original Dictionary: {'apple': 5, 'banana': 2, 'orange': 8, 'grape': 1}\n",
      "Sorted Dictionary (Ascending): {'grape': 1, 'banana': 2, 'apple': 5, 'orange': 8}\n",
      "Sorted Dictionary (Descending): {'orange': 8, 'apple': 5, 'banana': 2, 'grape': 1}\n"
     ]
    }
   ],
   "source": [
    "def sort_dict_by_values(d, ascending=True):\n",
    "    sorted_dict = dict(sorted(d.items(), key=lambda item: item[1], reverse=not ascending))\n",
    "    return sorted_dict\n",
    "\n",
    "\n",
    "input_dict = {'apple': 5, 'banana': 2, 'orange': 8, 'grape': 1}\n",
    "print(\"Original Dictionary:\", input_dict)\n",
    "\n",
    "# Sort in ascending order\n",
    "sorted_dict_asc = sort_dict_by_values(input_dict, ascending=True)\n",
    "print(\"Sorted Dictionary (Ascending):\", sorted_dict_asc)\n",
    "\n",
    "# Sort in descending order\n",
    "sorted_dict_desc = sort_dict_by_values(input_dict, ascending=False)\n",
    "print(\"Sorted Dictionary (Descending):\", sorted_dict_desc)\n"
   ]
  },
  {
   "cell_type": "markdown",
   "id": "3c955bd2-516a-4b8e-9fbd-708481d9ec17",
   "metadata": {},
   "source": [
    "Q.35 Write a code that inverts a dictionary swapping keys and values. Ensure thet the inverted dictionary \n",
    "correctly handles cases where multiple keys have the same value by storing the keys as a list in the \n",
    "inverted dictionary."
   ]
  },
  {
   "cell_type": "code",
   "execution_count": 41,
   "id": "e5a2d2ac-e656-489a-a363-ce44072634a5",
   "metadata": {},
   "outputs": [
    {
     "name": "stdout",
     "output_type": "stream",
     "text": [
      "Original Dictionary: {'a': 1, 'b': 2, 'c': 1, 'd': 3, 'e': 2}\n",
      "Inverted Dictionary: {1: ['a', 'c'], 2: ['b', 'e'], 3: ['d']}\n"
     ]
    }
   ],
   "source": [
    "def invert_dictionary(d):\n",
    "    inverted_dict = {}\n",
    "    for key, value in d.items():\n",
    "        if value in inverted_dict:\n",
    "            inverted_dict[value].append(key)\n",
    "        else:\n",
    "            inverted_dict[value] = [key]\n",
    "    return inverted_dict\n",
    "\n",
    "original_dict = {'a': 1, 'b': 2, 'c': 1, 'd': 3, 'e': 2}\n",
    "print(\"Original Dictionary:\", original_dict)\n",
    "print(\"Inverted Dictionary:\", invert_dictionary(original_dict))\n"
   ]
  },
  {
   "cell_type": "code",
   "execution_count": null,
   "id": "0a666d2e-a658-4811-b1d2-9254db66a5a3",
   "metadata": {},
   "outputs": [],
   "source": []
  }
 ],
 "metadata": {
  "kernelspec": {
   "display_name": "Python 3 (ipykernel)",
   "language": "python",
   "name": "python3"
  },
  "language_info": {
   "codemirror_mode": {
    "name": "ipython",
    "version": 3
   },
   "file_extension": ".py",
   "mimetype": "text/x-python",
   "name": "python",
   "nbconvert_exporter": "python",
   "pygments_lexer": "ipython3",
   "version": "3.12.5"
  }
 },
 "nbformat": 4,
 "nbformat_minor": 5
}
